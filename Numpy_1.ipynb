{
  "nbformat": 4,
  "nbformat_minor": 0,
  "metadata": {
    "colab": {
      "name": "Untitled5.ipynb",
      "version": "0.3.2",
      "provenance": [],
      "include_colab_link": true
    },
    "kernelspec": {
      "name": "python3",
      "display_name": "Python 3"
    }
  },
  "cells": [
    {
      "cell_type": "markdown",
      "metadata": {
        "id": "view-in-github",
        "colab_type": "text"
      },
      "source": [
        "[View in Colaboratory](https://colab.research.google.com/github/ArnabG99/NumpyJupyterNotekook/blob/master/Numpy_1.ipynb)"
      ]
    },
    {
      "metadata": {
        "id": "ZHPlqYJMKs6_",
        "colab_type": "text"
      },
      "cell_type": "markdown",
      "source": [
        "***Numpy***\n",
        "---\n",
        "Numpy stands for numerical pyhon.\n",
        "\n",
        "**What is numpy?**\n",
        "\n",
        "NumPy is a library for the Python programming language which provide support for large, multi-dimensional arrays and matrices, along with a large collection of high-level mathematical functions to operate on these arrays.\n",
        "\n"
      ]
    },
    {
      "metadata": {
        "id": "7unlrUquLGHN",
        "colab_type": "code",
        "colab": {}
      },
      "cell_type": "code",
      "source": [
        "import numpy as np #Calling numpy library"
      ],
      "execution_count": 0,
      "outputs": []
    },
    {
      "metadata": {
        "id": "lekjuQKIMJ6q",
        "colab_type": "text"
      },
      "cell_type": "markdown",
      "source": [
        "Creating arrays with numpy."
      ]
    },
    {
      "metadata": {
        "id": "iNtSOjRZMN3J",
        "colab_type": "code",
        "colab": {
          "base_uri": "https://localhost:8080/",
          "height": 68
        },
        "outputId": "ff84181f-7a1e-4e16-e9ee-163a326bdb70"
      },
      "cell_type": "code",
      "source": [
        "a = np.array([1,2,3])   #single dimensional or order 1\n",
        "b = np.array([(1,2,3),  #two dimensional or ordr 2 \n",
        "             (4,5,6)])\n",
        "\n",
        "print(a)\n",
        "print(b)"
      ],
      "execution_count": 10,
      "outputs": [
        {
          "output_type": "stream",
          "text": [
            "[1 2 3]\n",
            "[[1 2 3]\n",
            " [4 5 6]]\n"
          ],
          "name": "stdout"
        }
      ]
    },
    {
      "metadata": {
        "id": "CSahdVRmk4JN",
        "colab_type": "text"
      },
      "cell_type": "markdown",
      "source": [
        "Creating an array of certain range."
      ]
    },
    {
      "metadata": {
        "id": "k1Ydwap0k23a",
        "colab_type": "code",
        "colab": {
          "base_uri": "https://localhost:8080/",
          "height": 34
        },
        "outputId": "d0bc5e86-fb6b-4661-ccc2-8fa296028b33"
      },
      "cell_type": "code",
      "source": [
        "a = np.arange(10) # creating an array having 0 to 9\n",
        "print(a)"
      ],
      "execution_count": 11,
      "outputs": [
        {
          "output_type": "stream",
          "text": [
            "[0 1 2 3 4 5 6 7 8 9]\n"
          ],
          "name": "stdout"
        }
      ]
    },
    {
      "metadata": {
        "id": "w8QGXR7Hmda1",
        "colab_type": "text"
      },
      "cell_type": "markdown",
      "source": [
        "Dimension, shape, type of arrays."
      ]
    },
    {
      "metadata": {
        "id": "bCo6EYFgmdiy",
        "colab_type": "code",
        "colab": {
          "base_uri": "https://localhost:8080/",
          "height": 68
        },
        "outputId": "1bd47f50-1d66-4013-b5e9-e8eef87434ce"
      },
      "cell_type": "code",
      "source": [
        "a = np.array([(1,2,3),\n",
        "              (4,5,6),\n",
        "              (7,8,9)])\n",
        "\n",
        "print(a.ndim)   #Dimension\n",
        "print(a.shape)  #Shape\n",
        "print(type(a))  #Type"
      ],
      "execution_count": 18,
      "outputs": [
        {
          "output_type": "stream",
          "text": [
            "2\n",
            "(3, 3)\n",
            "<class 'numpy.ndarray'>\n"
          ],
          "name": "stdout"
        }
      ]
    },
    {
      "metadata": {
        "id": "WcZ2kys6qfxq",
        "colab_type": "code",
        "colab": {
          "base_uri": "https://localhost:8080/",
          "height": 255
        },
        "outputId": "179e092d-0a1b-4cdc-89ac-378a59e0957c"
      },
      "cell_type": "code",
      "source": [
        "a = np.array([(1,2,3,4),\n",
        "              (5,6,7,8),\n",
        "              (9,1,2,3)])\n",
        "\n",
        "print(a)\n",
        "b = a.reshape(4,3)\n",
        "print(b)\n",
        "\n",
        "print(a[0,0]) # 1\n",
        "print(a[1,2]) # 7\n",
        "\n",
        "print(a[0:2,2])\n",
        "print(a[0:,1])\n",
        "print(a[0:,1:])\n",
        "\n"
      ],
      "execution_count": 40,
      "outputs": [
        {
          "output_type": "stream",
          "text": [
            "[[1 2 3 4]\n",
            " [5 6 7 8]\n",
            " [9 1 2 3]]\n",
            "[[1 2 3]\n",
            " [4 5 6]\n",
            " [7 8 9]\n",
            " [1 2 3]]\n",
            "1\n",
            "7\n",
            "[3 7]\n",
            "[2 6 1]\n",
            "[[2 3 4]\n",
            " [6 7 8]\n",
            " [1 2 3]]\n"
          ],
          "name": "stdout"
        }
      ]
    }
  ]
}