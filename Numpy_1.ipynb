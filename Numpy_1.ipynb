{
  "nbformat": 4,
  "nbformat_minor": 0,
  "metadata": {
    "colab": {
      "name": "Untitled5.ipynb",
      "version": "0.3.2",
      "provenance": [],
      "include_colab_link": true
    },
    "kernelspec": {
      "name": "python3",
      "display_name": "Python 3"
    }
  },
  "cells": [
    {
      "cell_type": "markdown",
      "metadata": {
        "id": "view-in-github",
        "colab_type": "text"
      },
      "source": [
        "[View in Colaboratory](https://colab.research.google.com/github/ArnabG99/NumpyJupyterNotekook/blob/master/Numpy_1.ipynb)"
      ]
    },
    {
      "metadata": {
        "id": "ZHPlqYJMKs6_",
        "colab_type": "text"
      },
      "cell_type": "markdown",
      "source": [
        "***Numpy***\n",
        "---\n",
        "Numpy stands for numerical pyhon.\n",
        "\n",
        "**What is numpy?**\n",
        "\n",
        "NumPy is a library for the Python programming language which provide support for large, multi-dimensional arrays and matrices, along with a large collection of high-level mathematical functions to operate on these arrays.\n",
        "\n"
      ]
    },
    {
      "metadata": {
        "id": "7unlrUquLGHN",
        "colab_type": "code",
        "colab": {}
      },
      "cell_type": "code",
      "source": [
        "import numpy as np #Calling numpy library"
      ],
      "execution_count": 0,
      "outputs": []
    },
    {
      "metadata": {
        "id": "lekjuQKIMJ6q",
        "colab_type": "text"
      },
      "cell_type": "markdown",
      "source": [
        "Creating arrays with numpy."
      ]
    },
    {
      "metadata": {
        "id": "iNtSOjRZMN3J",
        "colab_type": "code",
        "colab": {
          "base_uri": "https://localhost:8080/",
          "height": 68
        },
        "outputId": "5bdcc3a4-c681-4000-bfe0-ad5fb15cd697"
      },
      "cell_type": "code",
      "source": [
        "a = np.array([1,2,3])   #single dimensional or order 1\n",
        "b = np.array([(1,2,3),  #two dimensional or ordr 2 \n",
        "             (4,5,6)])\n",
        "\n",
        "print(a)\n",
        "print(b)"
      ],
      "execution_count": 24,
      "outputs": [
        {
          "output_type": "stream",
          "text": [
            "[1 2 3]\n",
            "[[1 2 3]\n",
            " [4 5 6]]\n"
          ],
          "name": "stdout"
        }
      ]
    },
    {
      "metadata": {
        "id": "CSahdVRmk4JN",
        "colab_type": "text"
      },
      "cell_type": "markdown",
      "source": [
        "Creating an array of certain range."
      ]
    },
    {
      "metadata": {
        "id": "k1Ydwap0k23a",
        "colab_type": "code",
        "colab": {
          "base_uri": "https://localhost:8080/",
          "height": 34
        },
        "outputId": "a4092512-b652-45e6-870a-82ef041e7cff"
      },
      "cell_type": "code",
      "source": [
        "a = np.arange(10) # creating an array having 0 to 9\n",
        "print(a)"
      ],
      "execution_count": 25,
      "outputs": [
        {
          "output_type": "stream",
          "text": [
            "[0 1 2 3 4 5 6 7 8 9]\n"
          ],
          "name": "stdout"
        }
      ]
    },
    {
      "metadata": {
        "id": "w8QGXR7Hmda1",
        "colab_type": "text"
      },
      "cell_type": "markdown",
      "source": [
        "Dimension, shape, type of arrays."
      ]
    },
    {
      "metadata": {
        "id": "bCo6EYFgmdiy",
        "colab_type": "code",
        "colab": {
          "base_uri": "https://localhost:8080/",
          "height": 68
        },
        "outputId": "24a3df03-a6b6-4a22-aeb1-3bc5c65c8d3d"
      },
      "cell_type": "code",
      "source": [
        "a = np.array([(1,2,3),\n",
        "              (4,5,6),\n",
        "              (7,8,9)])\n",
        "\n",
        "print(a.ndim)   #Dimension\n",
        "print(a.shape)  #Shape\n",
        "print(type(a))  #Type"
      ],
      "execution_count": 26,
      "outputs": [
        {
          "output_type": "stream",
          "text": [
            "2\n",
            "(3, 3)\n",
            "<class 'numpy.ndarray'>\n"
          ],
          "name": "stdout"
        }
      ]
    },
    {
      "metadata": {
        "id": "WcZ2kys6qfxq",
        "colab_type": "code",
        "colab": {
          "base_uri": "https://localhost:8080/",
          "height": 255
        },
        "outputId": "581296b7-35c2-44e4-90dd-dc23386a1067"
      },
      "cell_type": "code",
      "source": [
        "a = np.array([(1,2,3,4),\n",
        "              (5,6,7,8),\n",
        "              (9,1,2,3)])\n",
        "\n",
        "print(a)\n",
        "b = a.reshape(4,3)\n",
        "print(b)\n",
        "\n",
        "print(a[0,0]) # 1\n",
        "print(a[1,2]) # 7\n",
        "\n",
        "print(a[0:2,2])\n",
        "print(a[0:,1])\n",
        "print(a[0:,1:])\n",
        "\n"
      ],
      "execution_count": 27,
      "outputs": [
        {
          "output_type": "stream",
          "text": [
            "[[1 2 3 4]\n",
            " [5 6 7 8]\n",
            " [9 1 2 3]]\n",
            "[[1 2 3]\n",
            " [4 5 6]\n",
            " [7 8 9]\n",
            " [1 2 3]]\n",
            "1\n",
            "7\n",
            "[3 7]\n",
            "[2 6 1]\n",
            "[[2 3 4]\n",
            " [6 7 8]\n",
            " [1 2 3]]\n"
          ],
          "name": "stdout"
        }
      ]
    },
    {
      "metadata": {
        "id": "ut9C4N7Y3v_a",
        "colab_type": "text"
      },
      "cell_type": "markdown",
      "source": [
        "Array Functions"
      ]
    },
    {
      "metadata": {
        "id": "wXndjiSf3y-L",
        "colab_type": "code",
        "colab": {
          "base_uri": "https://localhost:8080/",
          "height": 187
        },
        "outputId": "6da4a957-5cca-4bd6-8f0d-388977e3c819"
      },
      "cell_type": "code",
      "source": [
        "import random\n",
        "zero = np.zeros(shape=(2,2))\n",
        "one = np.ones(shape=(2,2))\n",
        "eye = np.eye(2)\n",
        "full = np.full(shape=(2,3),fill_value=5)\n",
        "rd = np.random.random((2,2))\n",
        "print(zero)\n",
        "print(one)\n",
        "print(eye)\n",
        "print(full)\n",
        "print(rd)"
      ],
      "execution_count": 28,
      "outputs": [
        {
          "output_type": "stream",
          "text": [
            "[[0. 0.]\n",
            " [0. 0.]]\n",
            "[[1. 1.]\n",
            " [1. 1.]]\n",
            "[[1. 0.]\n",
            " [0. 1.]]\n",
            "[[5 5 5]\n",
            " [5 5 5]]\n",
            "[[0.490388   0.47819922]\n",
            " [0.97964124 0.37110578]]\n"
          ],
          "name": "stdout"
        }
      ]
    },
    {
      "metadata": {
        "id": "phJf3yeu3dr5",
        "colab_type": "text"
      },
      "cell_type": "markdown",
      "source": [
        "Array of, evenly spaced numbers over a specified interval."
      ]
    },
    {
      "metadata": {
        "id": "RySlJkLA2wod",
        "colab_type": "code",
        "colab": {
          "base_uri": "https://localhost:8080/",
          "height": 34
        },
        "outputId": "2a40b4f1-e975-4ad3-f0ee-10a4b50109c4"
      },
      "cell_type": "code",
      "source": [
        "arr = np.linspace(0,100,11)\n",
        "print(arr)  #Return evenly spaced numbers over a specified interval."
      ],
      "execution_count": 29,
      "outputs": [
        {
          "output_type": "stream",
          "text": [
            "[  0.  10.  20.  30.  40.  50.  60.  70.  80.  90. 100.]\n"
          ],
          "name": "stdout"
        }
      ]
    },
    {
      "metadata": {
        "id": "u50UNA7EBm7H",
        "colab_type": "text"
      },
      "cell_type": "markdown",
      "source": [
        "Sum, sqrt, max, min, std"
      ]
    },
    {
      "metadata": {
        "id": "BFtO0-oS6BnH",
        "colab_type": "code",
        "colab": {
          "base_uri": "https://localhost:8080/",
          "height": 340
        },
        "outputId": "88644ccf-f0a0-42b4-9c03-fbe514fa8637"
      },
      "cell_type": "code",
      "source": [
        "print(a)\n",
        "print(a.sum())\n",
        "print(a.sum(axis=0))  #Sum columnwise\n",
        "print(a.sum(axis=1))  #Sum rowise\n",
        "print(a.max())\n",
        "print(a.min())\n",
        "print(a[0:,0].sum())  #Sum by slicing\n",
        "print(np.sqrt(a))     \n",
        "print(np.std(a))\n",
        "print(np.log(a))\n",
        "print(np.log10(a))"
      ],
      "execution_count": 30,
      "outputs": [
        {
          "output_type": "stream",
          "text": [
            "[[1 2 3 4]\n",
            " [5 6 7 8]\n",
            " [9 1 2 3]]\n",
            "51\n",
            "[15  9 12 15]\n",
            "[10 26 15]\n",
            "9\n",
            "1\n",
            "15\n",
            "[[1.         1.41421356 1.73205081 2.        ]\n",
            " [2.23606798 2.44948974 2.64575131 2.82842712]\n",
            " [3.         1.         1.41421356 1.73205081]]\n",
            "2.6180463454008347\n",
            "[[0.         0.69314718 1.09861229 1.38629436]\n",
            " [1.60943791 1.79175947 1.94591015 2.07944154]\n",
            " [2.19722458 0.         0.69314718 1.09861229]]\n",
            "[[0.         0.30103    0.47712125 0.60205999]\n",
            " [0.69897    0.77815125 0.84509804 0.90308999]\n",
            " [0.95424251 0.         0.30103    0.47712125]]\n"
          ],
          "name": "stdout"
        }
      ]
    },
    {
      "metadata": {
        "id": "8QirtFER8TNT",
        "colab_type": "text"
      },
      "cell_type": "markdown",
      "source": [
        "Mathematical Operations"
      ]
    },
    {
      "metadata": {
        "id": "S-I2Bnv_8Wum",
        "colab_type": "code",
        "colab": {
          "base_uri": "https://localhost:8080/",
          "height": 187
        },
        "outputId": "7eb98adc-b81b-4a05-881a-ff7a401b0177"
      },
      "cell_type": "code",
      "source": [
        "a = np.array([(1,2,3),\n",
        "              (4,5,6)])\n",
        "b = np.array([(7,8,9),\n",
        "              (10,11,12)])\n",
        "\n",
        "\n",
        "print(a+b)\n",
        "print(a*b)\n",
        "print(a*2)\n",
        "print(a/2)\n",
        "print(a/b)"
      ],
      "execution_count": 31,
      "outputs": [
        {
          "output_type": "stream",
          "text": [
            "[[ 8 10 12]\n",
            " [14 16 18]]\n",
            "[[ 7 16 27]\n",
            " [40 55 72]]\n",
            "[[ 2  4  6]\n",
            " [ 8 10 12]]\n",
            "[[0.5 1.  1.5]\n",
            " [2.  2.5 3. ]]\n",
            "[[0.14285714 0.25       0.33333333]\n",
            " [0.4        0.45454545 0.5       ]]\n"
          ],
          "name": "stdout"
        }
      ]
    },
    {
      "metadata": {
        "id": "rnkQUVXq9vzF",
        "colab_type": "text"
      },
      "cell_type": "markdown",
      "source": [
        "Vertical and horizontal stacking, ravel"
      ]
    },
    {
      "metadata": {
        "id": "eEt4H_Oi90Bx",
        "colab_type": "code",
        "colab": {
          "base_uri": "https://localhost:8080/",
          "height": 136
        },
        "outputId": "ff41ec9f-5d8a-46a4-e319-a01f280e6133"
      },
      "cell_type": "code",
      "source": [
        "print(np.vstack((a,b)))\n",
        "print(np.hstack((a,b)))\n",
        "print(np.ravel(a))"
      ],
      "execution_count": 32,
      "outputs": [
        {
          "output_type": "stream",
          "text": [
            "[[ 1  2  3]\n",
            " [ 4  5  6]\n",
            " [ 7  8  9]\n",
            " [10 11 12]]\n",
            "[[ 1  2  3  7  8  9]\n",
            " [ 4  5  6 10 11 12]]\n",
            "[1 2 3 4 5 6]\n"
          ],
          "name": "stdout"
        }
      ]
    },
    {
      "metadata": {
        "id": "x9zD8NMN-14E",
        "colab_type": "text"
      },
      "cell_type": "markdown",
      "source": [
        "Cosine and Sine Graphs"
      ]
    },
    {
      "metadata": {
        "id": "XUEJsFTC-7Hk",
        "colab_type": "code",
        "colab": {
          "base_uri": "https://localhost:8080/",
          "height": 1007
        },
        "outputId": "b8dc114f-097c-4988-897a-d0a28d46ea1f"
      },
      "cell_type": "code",
      "source": [
        "import matplotlib.pyplot as plt\n",
        "\n",
        "x = np.arange(0,3*np.pi,0.1)\n",
        "y = np.sin(x)\n",
        "z = np.cos(x)\n",
        "i = np.tan(x)\n",
        "\n",
        "\n",
        "plt.plot(x,y)\n",
        "plt.show()\n",
        "plt.plot(x,y)\n",
        "plt.show()\n",
        "plt.plot(x,i)\n",
        "plt.show()"
      ],
      "execution_count": 33,
      "outputs": [
        {
          "output_type": "display_data",
          "data": {
            "image/png": "[encoded data removed]",
            "text/plain": [
              "<matplotlib.figure.Figure at 0x7fb8def7e7f0>"
            ]
          },
          "metadata": {
            "tags": []
          }
        },
        {
          "output_type": "display_data",
          "data": {
            "image/png": "[encoded data removed]",
            "text/plain": [
              "<matplotlib.figure.Figure at 0x7fb8dc355898>"
            ]
          },
          "metadata": {
            "tags": []
          }
        },
        {
          "output_type": "display_data",
          "data": {
            "image/png": "[encoded data removed]",
            "text/plain": [
              "<matplotlib.figure.Figure at 0x7fb8dc3d46a0>"
            ]
          },
          "metadata": {
            "tags": []
          }
        }
      ]
    }
  ]
}