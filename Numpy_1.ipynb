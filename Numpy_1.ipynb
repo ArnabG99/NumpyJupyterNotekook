{
  "nbformat": 4,
  "nbformat_minor": 0,
  "metadata": {
    "colab": {
      "name": "Untitled5.ipynb",
      "version": "0.3.2",
      "provenance": [],
      "include_colab_link": true
    },
    "kernelspec": {
      "name": "python3",
      "display_name": "Python 3"
    }
  },
  "cells": [
    {
      "cell_type": "markdown",
      "metadata": {
        "id": "view-in-github",
        "colab_type": "text"
      },
      "source": [
        "[View in Colaboratory](https://colab.research.google.com/github/ArnabG99/NumpyJupyterNotekook/blob/master/Numpy_1.ipynb)"
      ]
    },
    {
      "metadata": {
        "id": "ZHPlqYJMKs6_",
        "colab_type": "text"
      },
      "cell_type": "markdown",
      "source": [
        "***Numpy***\n",
        "---\n",
        "Numpy stands for numerical pyhon.\n",
        "\n",
        "**What is numpy?**\n",
        "\n",
        "NumPy is a library for the Python programming language which provide support for large, multi-dimensional arrays and matrices, along with a large collection of high-level mathematical functions to operate on these arrays.\n",
        "\n"
      ]
    },
    {
      "metadata": {
        "id": "7unlrUquLGHN",
        "colab_type": "code",
        "colab": {}
      },
      "cell_type": "code",
      "source": [
        "import numpy as np #Calling numpy library"
      ],
      "execution_count": 0,
      "outputs": []
    },
    {
      "metadata": {
        "id": "lekjuQKIMJ6q",
        "colab_type": "text"
      },
      "cell_type": "markdown",
      "source": [
        "Creating arrays with numpy."
      ]
    },
    {
      "metadata": {
        "id": "iNtSOjRZMN3J",
        "colab_type": "code",
        "colab": {
          "base_uri": "https://localhost:8080/",
          "height": 68
        },
        "outputId": "0ee736c2-65da-4f58-8d4b-d588840f6c62"
      },
      "cell_type": "code",
      "source": [
        "a = np.array([1,2,3])   #single dimensional or order 1\n",
        "b = np.array([(1,2,3),  #two dimensional or ordr 2 \n",
        "             (4,5,6)])\n",
        "\n",
        "print(a)\n",
        "print(b)"
      ],
      "execution_count": 8,
      "outputs": [
        {
          "output_type": "stream",
          "text": [
            "[1 2 3]\n",
            "[[1 2 3]\n",
            " [4 5 6]]\n"
          ],
          "name": "stdout"
        }
      ]
    }
  ]
}